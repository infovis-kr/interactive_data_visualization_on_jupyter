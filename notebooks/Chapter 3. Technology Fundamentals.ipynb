{
 "cells": [
  {
   "cell_type": "code",
   "execution_count": 46,
   "metadata": {
    "collapsed": false
   },
   "outputs": [
    {
     "data": {
      "application/javascript": [
       "\n",
       "// Setup Javascript playground\n",
       "window.get_element = function(el){\n",
       "    if(el){ $(el).html('') }\n",
       "    return (el !== undefined) ? el[0] : $('script').last().parent()[0];\n",
       "};\n",
       "\n",
       "element = undefined;\n",
       "\n",
       "// Define external scripts\n",
       "require.config({\n",
       "    paths: {\n",
       "        d3: \"http://d3js.org/d3.v3.min\"\n",
       "    }\n",
       "});\n",
       "\n",
       "// Helper functions\n",
       "console.duplex = function(content, element){\n",
       "    console.log(content);\n",
       "    $(element).append($('<p>' + content + '</p>'))\n",
       "}"
      ],
      "text/plain": [
       "<IPython.core.display.Javascript object>"
      ]
     },
     "metadata": {},
     "output_type": "display_data"
    }
   ],
   "source": [
    "%%javascript\n",
    "\n",
    "// Setup Javascript playground\n",
    "window.get_element = function(el){\n",
    "    if(el){ $(el).html('') }\n",
    "    return (el !== undefined) ? el[0] : $('script').last().parent()[0];\n",
    "};\n",
    "\n",
    "element = undefined;\n",
    "\n",
    "// Define external scripts\n",
    "require.config({\n",
    "    paths: {\n",
    "        d3: \"http://d3js.org/d3.v3.min\"\n",
    "    }\n",
    "});\n",
    "\n",
    "// Helper functions\n",
    "console.duplex = function(content, element){\n",
    "    console.log(content);\n",
    "    $(element).append($('<p>' + content + '</p>'))\n",
    "}"
   ]
  },
  {
   "cell_type": "code",
   "execution_count": 4,
   "metadata": {
    "collapsed": false
   },
   "outputs": [
    {
     "data": {
      "text/html": [
       "\n",
       "<!DOCTYPE html>\n",
       "<html>\n",
       "    <head>\n",
       "        <title>Page Title</title>\n",
       "    </head>\n",
       "    <body>\n",
       "        <h1>Page Title</h1>\n",
       "        <p>This is a really interesting paragraph.</p>\n",
       "    </body>\n",
       "</html>"
      ],
      "text/plain": [
       "<IPython.core.display.HTML object>"
      ]
     },
     "metadata": {},
     "output_type": "display_data"
    }
   ],
   "source": [
    "%%html\n",
    "\n",
    "<!DOCTYPE html>\n",
    "<html>\n",
    "    <head>\n",
    "        <title>Page Title</title>\n",
    "    </head>\n",
    "    <body>\n",
    "        <h1>Page Title</h1>\n",
    "        <p>This is a really interesting paragraph.</p>\n",
    "    </body>\n",
    "</html>"
   ]
  },
  {
   "cell_type": "code",
   "execution_count": 6,
   "metadata": {
    "collapsed": false
   },
   "outputs": [
    {
     "data": {
      "text/html": [
       "\n",
       "Amazing Visualization Tool Cures All Ills A new open-source tool designed for\n",
       "visualization of data turns out to have an unexpected, positive side effect:\n",
       "it heals any ailments of the viewer. Leading scientists report that the tool,\n",
       "called D3000, can cure even the following symptoms: fevers chills general\n",
       "malaise It achieves this end with a patented, three-step process. Load in data.\n",
       "Generate a visual representation. Activate magic healing function."
      ],
      "text/plain": [
       "<IPython.core.display.HTML object>"
      ]
     },
     "metadata": {},
     "output_type": "display_data"
    }
   ],
   "source": [
    "%%html\n",
    "\n",
    "Amazing Visualization Tool Cures All Ills A new open-source tool designed for\n",
    "visualization of data turns out to have an unexpected, positive side effect:\n",
    "it heals any ailments of the viewer. Leading scientists report that the tool,\n",
    "called D3000, can cure even the following symptoms: fevers chills general\n",
    "malaise It achieves this end with a patented, three-step process. Load in data.\n",
    "Generate a visual representation. Activate magic healing function."
   ]
  },
  {
   "cell_type": "code",
   "execution_count": 7,
   "metadata": {
    "collapsed": false
   },
   "outputs": [
    {
     "data": {
      "text/html": [
       "\n",
       "<h1>Amazing Visualization Tool Cures All Ills</h1>\n",
       "<p>A new open-source tool designed for visualization of data turns out to have\n",
       "an unexpected, positive side effect: it heals any ailments of the viewer.\n",
       "Leading scientists report that the tool, called D3000, can cure even the\n",
       "following symptoms:</p>\n",
       "<ul>\n",
       "    <li>fevers</li>\n",
       "    <li>chills</li>\n",
       "    <li>general malaise</li>\n",
       "</ul>\n",
       "<p>It achieves this end with a patented, three-step process.</p>\n",
       "<ol>\n",
       "    <li>Load in data.</li>\n",
       "    <li>Generate a visual representation.</li>\n",
       "    <li>Activate magic healing function.</li>\n",
       "</ol>"
      ],
      "text/plain": [
       "<IPython.core.display.HTML object>"
      ]
     },
     "metadata": {},
     "output_type": "display_data"
    }
   ],
   "source": [
    "%%html\n",
    "\n",
    "<h1>Amazing Visualization Tool Cures All Ills</h1>\n",
    "<p>A new open-source tool designed for visualization of data turns out to have\n",
    "an unexpected, positive side effect: it heals any ailments of the viewer.\n",
    "Leading scientists report that the tool, called D3000, can cure even the\n",
    "following symptoms:</p>\n",
    "<ul>\n",
    "    <li>fevers</li>\n",
    "    <li>chills</li>\n",
    "    <li>general malaise</li>\n",
    "</ul>\n",
    "<p>It achieves this end with a patented, three-step process.</p>\n",
    "<ol>\n",
    "    <li>Load in data.</li>\n",
    "    <li>Generate a visual representation.</li>\n",
    "    <li>Activate magic healing function.</li>\n",
    "</ol>"
   ]
  },
  {
   "cell_type": "code",
   "execution_count": 8,
   "metadata": {
    "collapsed": false
   },
   "outputs": [
    {
     "data": {
      "text/html": [
       "\n",
       "<a href=\"http://d3js.org/\">The D3 website</a>"
      ],
      "text/plain": [
       "<IPython.core.display.HTML object>"
      ]
     },
     "metadata": {},
     "output_type": "display_data"
    }
   ],
   "source": [
    "%%html\n",
    "\n",
    "<a href=\"http://d3js.org/\">The D3 website</a>"
   ]
  },
  {
   "cell_type": "code",
   "execution_count": 9,
   "metadata": {
    "collapsed": false
   },
   "outputs": [
    {
     "data": {
      "text/html": [
       "\n",
       "<p>Brilliant paragraph</p>\n",
       "<p>Insightful paragraph</p>\n",
       "<p class=\"awesome\">Awe-inspiring paragraph</p>"
      ],
      "text/plain": [
       "<IPython.core.display.HTML object>"
      ]
     },
     "metadata": {},
     "output_type": "display_data"
    }
   ],
   "source": [
    "%%html\n",
    "\n",
    "<p>Brilliant paragraph</p>\n",
    "<p>Insightful paragraph</p>\n",
    "<p class=\"awesome\">Awe-inspiring paragraph</p>"
   ]
  },
  {
   "cell_type": "code",
   "execution_count": 10,
   "metadata": {
    "collapsed": false
   },
   "outputs": [
    {
     "data": {
      "text/html": [
       "\n",
       "<p class=\"uplifting\">Brilliant paragraph</p>\n",
       "<p class=\"uplifting\">Insightful paragraph</p>\n",
       "<p class=\"uplifting awesome\">Awe-inspiring paragraph</p>"
      ],
      "text/plain": [
       "<IPython.core.display.HTML object>"
      ]
     },
     "metadata": {},
     "output_type": "display_data"
    }
   ],
   "source": [
    "%%html\n",
    "\n",
    "<p class=\"uplifting\">Brilliant paragraph</p>\n",
    "<p class=\"uplifting\">Insightful paragraph</p>\n",
    "<p class=\"uplifting awesome\">Awe-inspiring paragraph</p>"
   ]
  },
  {
   "cell_type": "code",
   "execution_count": 11,
   "metadata": {
    "collapsed": false
   },
   "outputs": [
    {
     "data": {
      "text/html": [
       "\n",
       "<div id=\"content\">\n",
       "    <div id=\"visualization\"></div>\n",
       "    <div id=\"button\"></div>\n",
       "</div>"
      ],
      "text/plain": [
       "<IPython.core.display.HTML object>"
      ]
     },
     "metadata": {},
     "output_type": "display_data"
    }
   ],
   "source": [
    "%%html\n",
    "\n",
    "<div id=\"content\">\n",
    "    <div id=\"visualization\"></div>\n",
    "    <div id=\"button\"></div>\n",
    "</div>"
   ]
  },
  {
   "cell_type": "code",
   "execution_count": 12,
   "metadata": {
    "collapsed": false
   },
   "outputs": [
    {
     "data": {
      "text/html": [
       "\n",
       "<!-- Your comment here -->"
      ],
      "text/plain": [
       "<IPython.core.display.HTML object>"
      ]
     },
     "metadata": {},
     "output_type": "display_data"
    }
   ],
   "source": [
    "%%html\n",
    "\n",
    "<!-- Your comment here -->"
   ]
  },
  {
   "cell_type": "code",
   "execution_count": 13,
   "metadata": {
    "collapsed": false
   },
   "outputs": [
    {
     "data": {
      "text/html": [
       "\n",
       "<html>\n",
       "    <body>\n",
       "        <h1>Breaking News</h1>\n",
       "        <p></p>\n",
       "    </body>\n",
       "</html>"
      ],
      "text/plain": [
       "<IPython.core.display.HTML object>"
      ]
     },
     "metadata": {},
     "output_type": "display_data"
    }
   ],
   "source": [
    "%%html\n",
    "\n",
    "<html>\n",
    "    <body>\n",
    "        <h1>Breaking News</h1>\n",
    "        <p></p>\n",
    "    </body>\n",
    "</html>"
   ]
  },
  {
   "cell_type": "code",
   "execution_count": 25,
   "metadata": {
    "collapsed": false
   },
   "outputs": [
    {
     "data": {
      "text/html": [
       "\n",
       "\n",
       "\n",
       "<!DOCTYPE html>\n",
       "<html>\n",
       "    <head>\n",
       "        <title>Page Title</title>\n",
       "        <style>\n",
       "            #example1 p,\n",
       "            #example1 li {\n",
       "                font-size: 12px;\n",
       "                line-height: 14px;\n",
       "                color: orange;\n",
       "            }\n",
       "        </style>\n",
       "    </head>\n",
       "    <body>\n",
       "        <div id='example1'>\n",
       "            <h1>Amazing Visualization Tool Cures All Ills</h1>\n",
       "            <p>A new open-source tool designed for visualization of data turns out to have\n",
       "            an unexpected, positive side effect: it heals any ailments of the viewer.\n",
       "            Leading scientists report that the tool, called D3000, can cure even the\n",
       "            following symptoms:</p>\n",
       "            <ul>\n",
       "                <li>fevers</li>\n",
       "                <li>chills</li>\n",
       "                <li>general malaise</li>\n",
       "            </ul>\n",
       "            <p>It achieves this end with a patented, three-step process.</p>\n",
       "            <ol>\n",
       "                <li>Load in data.</li>\n",
       "                <li>Generate a visual representation.</li>\n",
       "                <li>Activate magic healing function.</li>\n",
       "            </ol>\n",
       "\n",
       "            <h1>Page Title</h1>\n",
       "            <p>This is a really interesting paragraph.</p>\n",
       "        </div>\n",
       "    </body>\n",
       "</html>"
      ],
      "text/plain": [
       "<IPython.core.display.HTML object>"
      ]
     },
     "metadata": {},
     "output_type": "display_data"
    }
   ],
   "source": [
    "%%html\n",
    "\n",
    "\n",
    "\n",
    "<!DOCTYPE html>\n",
    "<html>\n",
    "    <head>\n",
    "        <title>Page Title</title>\n",
    "        <style>\n",
    "            #example1 p,\n",
    "            #example1 li {\n",
    "                font-size: 12px;\n",
    "                line-height: 14px;\n",
    "                color: orange;\n",
    "            }\n",
    "        </style>\n",
    "    </head>\n",
    "    <body>\n",
    "        <div id='example1'>\n",
    "            <h1>Amazing Visualization Tool Cures All Ills</h1>\n",
    "            <p>A new open-source tool designed for visualization of data turns out to have\n",
    "            an unexpected, positive side effect: it heals any ailments of the viewer.\n",
    "            Leading scientists report that the tool, called D3000, can cure even the\n",
    "            following symptoms:</p>\n",
    "            <ul>\n",
    "                <li>fevers</li>\n",
    "                <li>chills</li>\n",
    "                <li>general malaise</li>\n",
    "            </ul>\n",
    "            <p>It achieves this end with a patented, three-step process.</p>\n",
    "            <ol>\n",
    "                <li>Load in data.</li>\n",
    "                <li>Generate a visual representation.</li>\n",
    "                <li>Activate magic healing function.</li>\n",
    "            </ol>\n",
    "\n",
    "            <h1>Page Title</h1>\n",
    "            <p>This is a really interesting paragraph.</p>\n",
    "        </div>\n",
    "    </body>\n",
    "</html>"
   ]
  },
  {
   "cell_type": "code",
   "execution_count": 28,
   "metadata": {
    "collapsed": false
   },
   "outputs": [
    {
     "data": {
      "text/html": [
       "\n",
       "<html>\n",
       "    <head>\n",
       "        <style type=\"text/css\">\n",
       "            #example2 p {\n",
       "                font-size: 24px;\n",
       "                font-weight: bold;\n",
       "                background-color: red;\n",
       "                color: white;\n",
       "            }\n",
       "        </style>\n",
       "    </head>\n",
       "    <body>\n",
       "        <div id='example2'>\n",
       "            <p>If I were to ask you, as a mere paragraph, would you say that I\n",
       "            have style?</p>\n",
       "        </div>\n",
       "    </body>\n",
       "</html>"
      ],
      "text/plain": [
       "<IPython.core.display.HTML object>"
      ]
     },
     "metadata": {},
     "output_type": "display_data"
    }
   ],
   "source": [
    "%%html\n",
    "\n",
    "<html>\n",
    "    <head>\n",
    "        <style type=\"text/css\">\n",
    "            #example2 p {\n",
    "                font-size: 24px;\n",
    "                font-weight: bold;\n",
    "                background-color: red;\n",
    "                color: white;\n",
    "            }\n",
    "        </style>\n",
    "    </head>\n",
    "    <body>\n",
    "        <div id='example2'>\n",
    "            <p>If I were to ask you, as a mere paragraph, would you say that I\n",
    "            have style?</p>\n",
    "        </div>\n",
    "    </body>\n",
    "</html>"
   ]
  },
  {
   "cell_type": "code",
   "execution_count": 30,
   "metadata": {
    "collapsed": false
   },
   "outputs": [
    {
     "data": {
      "text/html": [
       "\n",
       "<html>\n",
       "    <head>\n",
       "        <link rel=\"stylesheet\" href=\"style.css\">\n",
       "    </head>\n",
       "    <body>\n",
       "        <p>If I were to ask you, as a mere paragraph, would you say that\n",
       "        I have style?</p>\n",
       "    </body>\n",
       "</html>"
      ],
      "text/plain": [
       "<IPython.core.display.HTML object>"
      ]
     },
     "metadata": {},
     "output_type": "display_data"
    }
   ],
   "source": [
    "%%html\n",
    "\n",
    "<html>\n",
    "    <head>\n",
    "        <link rel=\"stylesheet\" href=\"style.css\">\n",
    "    </head>\n",
    "    <body>\n",
    "        <p>If I were to ask you, as a mere paragraph, would you say that\n",
    "        I have style?</p>\n",
    "    </body>\n",
    "</html>"
   ]
  },
  {
   "cell_type": "code",
   "execution_count": 32,
   "metadata": {
    "collapsed": false
   },
   "outputs": [
    {
     "data": {
      "text/html": [
       "\n",
       "<p style=\"color: blue; font-size: 48px; font-style: italic;\">Inline styles\n",
       "are kind of a hassle</p>"
      ],
      "text/plain": [
       "<IPython.core.display.HTML object>"
      ]
     },
     "metadata": {},
     "output_type": "display_data"
    }
   ],
   "source": [
    "%%html\n",
    "\n",
    "<p style=\"color: blue; font-size: 48px; font-style: italic;\">Inline styles\n",
    "are kind of a hassle</p>"
   ]
  },
  {
   "cell_type": "code",
   "execution_count": 43,
   "metadata": {
    "collapsed": false
   },
   "outputs": [
    {
     "data": {
      "text/html": [
       "\n",
       "<html>\n",
       "    <head>\n",
       "        <style type=\"text/css\">\n",
       "            div#example3 {\n",
       "                background-color: red;\n",
       "                font-size: 24px;\n",
       "                font-weight: bold;\n",
       "                color: white;\n",
       "            }\n",
       "        </style>\n",
       "    </head>\n",
       "    <body>\n",
       "        <p>I am a sibling to the div.</p>\n",
       "        <div id='example3'>\n",
       "            <p>I am a descendant and child of the div.</p>\n",
       "        </div>\n",
       "    </body>\n",
       "</html>"
      ],
      "text/plain": [
       "<IPython.core.display.HTML object>"
      ]
     },
     "metadata": {},
     "output_type": "display_data"
    }
   ],
   "source": [
    "%%html\n",
    "\n",
    "<html>\n",
    "    <head>\n",
    "        <style type=\"text/css\">\n",
    "            div#example3 {\n",
    "                background-color: red;\n",
    "                font-size: 24px;\n",
    "                font-weight: bold;\n",
    "                color: white;\n",
    "            }\n",
    "        </style>\n",
    "    </head>\n",
    "    <body>\n",
    "        <p>I am a sibling to the div.</p>\n",
    "        <div id='example3'>\n",
    "            <p>I am a descendant and child of the div.</p>\n",
    "        </div>\n",
    "    </body>\n",
    "</html>"
   ]
  },
  {
   "cell_type": "code",
   "execution_count": 111,
   "metadata": {
    "collapsed": false
   },
   "outputs": [
    {
     "data": {
      "text/html": [
       "\n",
       "<html>\n",
       "    <head>\n",
       "        <title></title>\n",
       "        <style>\n",
       "            div#example-17 {\n",
       "                color: blue;\n",
       "            }\n",
       "\n",
       "            div#example-17 highlight {\n",
       "                color: black;\n",
       "                background-color: yellow;\n",
       "            }\n",
       "        </style>    \n",
       "    </head>\n",
       "    <body>\n",
       "        <div id='example-17'>\n",
       "            <p>A regular paragraph</p>\n",
       "            <p class=\"highlight\">A highlighted paragraph</p>\n",
       "        </div>\n",
       "    </body>\n",
       "</html>"
      ],
      "text/plain": [
       "<IPython.core.display.HTML object>"
      ]
     },
     "metadata": {},
     "output_type": "display_data"
    }
   ],
   "source": [
    "%%html\n",
    "\n",
    "<html>\n",
    "    <head>\n",
    "        <title></title>\n",
    "        <style>\n",
    "            div#example-17 {\n",
    "                color: blue;\n",
    "            }\n",
    "\n",
    "            div#example-17 highlight {\n",
    "                color: black;\n",
    "                background-color: yellow;\n",
    "            }\n",
    "        </style>    \n",
    "    </head>\n",
    "    <body>\n",
    "        <div id='example-17'>\n",
    "            <p>A regular paragraph</p>\n",
    "            <p class=\"highlight\">A highlighted paragraph</p>\n",
    "        </div>\n",
    "    </body>\n",
    "</html>\n"
   ]
  },
  {
   "cell_type": "code",
   "execution_count": 53,
   "metadata": {
    "collapsed": false
   },
   "outputs": [
    {
     "data": {
      "application/javascript": [
       "\n",
       "console.duplex(5, element);\n",
       "\n",
       "var number = 5;\n",
       "console.duplex(number, element);\n",
       "\n",
       "var amount = 200;\n",
       "console.duplex(amount, element);\n",
       "\n",
       "var defaultColor = \"hot pink\";\n",
       "console.duplex(defaultColor, element);\n",
       "\n",
       "var thisMakesSenseSoFar = true;\n",
       "console.duplex(thisMakesSenseSoFar, element);"
      ],
      "text/plain": [
       "<IPython.core.display.Javascript object>"
      ]
     },
     "metadata": {},
     "output_type": "display_data"
    }
   ],
   "source": [
    "%%javascript\n",
    "\n",
    "console.duplex(5, element);\n",
    "\n",
    "var number = 5;\n",
    "console.duplex(number, element);\n",
    "\n",
    "var amount = 200;\n",
    "console.duplex(amount, element);\n",
    "\n",
    "var defaultColor = \"hot pink\";\n",
    "console.duplex(defaultColor, element);\n",
    "\n",
    "var thisMakesSenseSoFar = true;\n",
    "console.duplex(thisMakesSenseSoFar, element);"
   ]
  },
  {
   "cell_type": "code",
   "execution_count": 58,
   "metadata": {
    "collapsed": false
   },
   "outputs": [
    {
     "data": {
      "application/javascript": [
       "\n",
       "var numbers = [ 5, 10, 15, 20, 25 ];\n",
       "\n",
       "console.duplex(numbers[0], element)\n",
       "console.duplex(numbers[1], element)\n",
       "console.duplex(numbers[2], element)\n",
       "console.duplex(numbers[3], element)\n",
       "console.duplex(numbers[4], element)"
      ],
      "text/plain": [
       "<IPython.core.display.Javascript object>"
      ]
     },
     "metadata": {},
     "output_type": "display_data"
    }
   ],
   "source": [
    "%%javascript\n",
    "\n",
    "var numbers = [ 5, 10, 15, 20, 25 ];\n",
    "\n",
    "console.duplex(numbers[0], element)\n",
    "console.duplex(numbers[1], element)\n",
    "console.duplex(numbers[2], element)\n",
    "console.duplex(numbers[3], element)\n",
    "console.duplex(numbers[4], element)"
   ]
  },
  {
   "cell_type": "code",
   "execution_count": 61,
   "metadata": {
    "collapsed": false
   },
   "outputs": [
    {
     "data": {
      "application/javascript": [
       "\n",
       "var fruit = {\n",
       "    kind: \"grape\",\n",
       "    color: \"red\",\n",
       "    quantity: 12,\n",
       "    tasty: true\n",
       "};\n",
       "\n",
       "console.duplex(fruit.kind, element)      //Returns \"grape\"\n",
       "console.duplex(fruit.color, element)     //Returns \"red\"\n",
       "console.duplex(fruit.quantity, element)  //Returns 12\n",
       "console.duplex(fruit.tasty, element)     //Returns true"
      ],
      "text/plain": [
       "<IPython.core.display.Javascript object>"
      ]
     },
     "metadata": {},
     "output_type": "display_data"
    }
   ],
   "source": [
    "%%javascript\n",
    "\n",
    "var fruit = {\n",
    "    kind: \"grape\",\n",
    "    color: \"red\",\n",
    "    quantity: 12,\n",
    "    tasty: true\n",
    "};\n",
    "\n",
    "console.duplex(fruit.kind, element)      //Returns \"grape\"\n",
    "console.duplex(fruit.color, element)     //Returns \"red\"\n",
    "console.duplex(fruit.quantity, element)  //Returns 12\n",
    "console.duplex(fruit.tasty, element)     //Returns true"
   ]
  },
  {
   "cell_type": "code",
   "execution_count": 67,
   "metadata": {
    "collapsed": false
   },
   "outputs": [
    {
     "data": {
      "application/javascript": [
       "\n",
       "var fruits = [\n",
       "    {\n",
       "        kind: \"grape\",\n",
       "        color: \"red\",\n",
       "        quantity: 12,\n",
       "        tasty: true\n",
       "    },\n",
       "    {\n",
       "        kind: \"kiwi\",\n",
       "        color: \"brown\",\n",
       "        quantity: 98,\n",
       "        tasty: true\n",
       "    },\n",
       "    {\n",
       "        kind: \"banana\",\n",
       "        color: \"yellow\",\n",
       "        quantity: 0,\n",
       "        tasty: true\n",
       "    }\n",
       "];\n",
       "\n",
       "console.duplex(fruits[1], element);\n",
       "console.duplex(fruits[1].quantity, element);"
      ],
      "text/plain": [
       "<IPython.core.display.Javascript object>"
      ]
     },
     "metadata": {},
     "output_type": "display_data"
    }
   ],
   "source": [
    "%%javascript\n",
    "\n",
    "var fruits = [\n",
    "    {\n",
    "        kind: \"grape\",\n",
    "        color: \"red\",\n",
    "        quantity: 12,\n",
    "        tasty: true\n",
    "    },\n",
    "    {\n",
    "        kind: \"kiwi\",\n",
    "        color: \"brown\",\n",
    "        quantity: 98,\n",
    "        tasty: true\n",
    "    },\n",
    "    {\n",
    "        kind: \"banana\",\n",
    "        color: \"yellow\",\n",
    "        quantity: 0,\n",
    "        tasty: true\n",
    "    }\n",
    "];\n",
    "\n",
    "console.duplex(fruits[1], element);\n",
    "console.duplex(fruits[1].quantity, element);\n"
   ]
  },
  {
   "cell_type": "code",
   "execution_count": 69,
   "metadata": {
    "collapsed": false
   },
   "outputs": [
    {
     "data": {
      "application/javascript": [
       "\n",
       "var fruits = [\n",
       "    {\n",
       "        kind: \"grape\",\n",
       "        color: \"red\",\n",
       "        quantity: 12,\n",
       "        tasty: true\n",
       "    },\n",
       "    {\n",
       "        kind: \"kiwi\",\n",
       "        color: \"brown\",\n",
       "        quantity: 98,\n",
       "        tasty: true\n",
       "    },\n",
       "    {\n",
       "        kind: \"banana\",\n",
       "        color: \"yellow\",\n",
       "        quantity: 0,\n",
       "        tasty: true\n",
       "    }\n",
       "];\n",
       "\n",
       "console.duplex(fruits[0].kind      ==  \"grape\", element)\n",
       "console.duplex(fruits[0].color     ==  \"red\", element)\n",
       "console.duplex(fruits[0].quantity  ==  12, element)\n",
       "console.duplex(fruits[0].tasty     ==  true, element)\n",
       "\n",
       "console.duplex(fruits[1].kind      ==  \"kiwi\", element)\n",
       "console.duplex(fruits[1].color     ==  \"brown\", element)\n",
       "console.duplex(fruits[1].quantity  ==  98, element)\n",
       "console.duplex(fruits[1].tasty     ==  true, element)\n",
       "\n",
       "console.duplex(fruits[2].kind      ==  \"banana\", element)\n",
       "console.duplex(fruits[2].color     ==  \"yellow\", element)\n",
       "console.duplex(fruits[2].quantity  ==  0, element)\n",
       "console.duplex(fruits[2].tasty     ==  true, element)"
      ],
      "text/plain": [
       "<IPython.core.display.Javascript object>"
      ]
     },
     "metadata": {},
     "output_type": "display_data"
    }
   ],
   "source": [
    "%%javascript\n",
    "\n",
    "var fruits = [\n",
    "    {\n",
    "        kind: \"grape\",\n",
    "        color: \"red\",\n",
    "        quantity: 12,\n",
    "        tasty: true\n",
    "    },\n",
    "    {\n",
    "        kind: \"kiwi\",\n",
    "        color: \"brown\",\n",
    "        quantity: 98,\n",
    "        tasty: true\n",
    "    },\n",
    "    {\n",
    "        kind: \"banana\",\n",
    "        color: \"yellow\",\n",
    "        quantity: 0,\n",
    "        tasty: true\n",
    "    }\n",
    "];\n",
    "\n",
    "console.duplex(fruits[0].kind      ==  \"grape\", element)\n",
    "console.duplex(fruits[0].color     ==  \"red\", element)\n",
    "console.duplex(fruits[0].quantity  ==  12, element)\n",
    "console.duplex(fruits[0].tasty     ==  true, element)\n",
    "\n",
    "console.duplex(fruits[1].kind      ==  \"kiwi\", element)\n",
    "console.duplex(fruits[1].color     ==  \"brown\", element)\n",
    "console.duplex(fruits[1].quantity  ==  98, element)\n",
    "console.duplex(fruits[1].tasty     ==  true, element)\n",
    "\n",
    "console.duplex(fruits[2].kind      ==  \"banana\", element)\n",
    "console.duplex(fruits[2].color     ==  \"yellow\", element)\n",
    "console.duplex(fruits[2].quantity  ==  0, element)\n",
    "console.duplex(fruits[2].tasty     ==  true, element)"
   ]
  },
  {
   "cell_type": "markdown",
   "metadata": {},
   "source": [
    "## json\n",
    "\n",
    "json\n",
    "\n",
    "```\n",
    "{\n",
    "    \"kind\": \"grape\",\n",
    "    \"color\": \"red\",\n",
    "    \"quantity\": 12,\n",
    "    \"tasty\": true\n",
    "}\n",
    "```\n",
    "\n",
    "javascript\n",
    "```\n",
    "var jsonFruit = {\n",
    "    \"kind\": \"grape\",\n",
    "    \"color\": \"red\",\n",
    "    \"quantity\": 12,\n",
    "    \"tasty\": true\n",
    "};\n",
    "```"
   ]
  },
  {
   "cell_type": "markdown",
   "metadata": {},
   "source": [
    "## geojson\n",
    "\n",
    "```\n",
    "{\n",
    "    \"type\": \"FeatureCollection\",\n",
    "    \"features\": [\n",
    "        {\n",
    "            \"type\": \"Feature\",\n",
    "            \"geometry\": {\n",
    "                \"type\": \"Point\",\n",
    "                \"coordinates\": [ 150.1282427, -24.471803 ]\n",
    "            },\n",
    "            \"properties\": {\n",
    "                \"type\": \"town\"\n",
    "            }\n",
    "        }\n",
    "    ]\n",
    "}\n",
    "```"
   ]
  },
  {
   "cell_type": "code",
   "execution_count": 70,
   "metadata": {
    "collapsed": false
   },
   "outputs": [
    {
     "data": {
      "application/javascript": [
       "\n",
       "console.duplex(1 + 2, element)       //Returns 3\n",
       "console.duplex(10 - 0.5, element)    //Retuns 9.5\n",
       "console.duplex(33 * 3, element)      //Returns 99\n",
       "console.duplex(3 / 4, element)       //Returns 0.75"
      ],
      "text/plain": [
       "<IPython.core.display.Javascript object>"
      ]
     },
     "metadata": {},
     "output_type": "display_data"
    }
   ],
   "source": [
    "%%javascript\n",
    "\n",
    "console.duplex(1 + 2, element)       //Returns 3\n",
    "console.duplex(10 - 0.5, element)    //Retuns 9.5\n",
    "console.duplex(33 * 3, element)      //Returns 99\n",
    "console.duplex(3 / 4, element)       //Returns 0.75"
   ]
  },
  {
   "cell_type": "code",
   "execution_count": 72,
   "metadata": {
    "collapsed": false
   },
   "outputs": [
    {
     "data": {
      "application/javascript": [
       "\n",
       "console.duplex(3 == 3, element)\n",
       "console.duplex(3 == 5, element)\n",
       "console.duplex(3 >= 3, element)\n",
       "console.duplex(3 >= 2, element)\n",
       "console.duplex(100 < 2, element)\n",
       "console.duplex(298 != 298, element)"
      ],
      "text/plain": [
       "<IPython.core.display.Javascript object>"
      ]
     },
     "metadata": {},
     "output_type": "display_data"
    }
   ],
   "source": [
    "%%javascript\n",
    "\n",
    "console.duplex(3 == 3, element)\n",
    "console.duplex(3 == 5, element)\n",
    "console.duplex(3 >= 3, element)\n",
    "console.duplex(3 >= 2, element)\n",
    "console.duplex(100 < 2, element)\n",
    "console.duplex(298 != 298, element)"
   ]
  },
  {
   "cell_type": "code",
   "execution_count": 74,
   "metadata": {
    "collapsed": false
   },
   "outputs": [
    {
     "data": {
      "application/javascript": [
       "\n",
       "if (3 < 5) {\n",
       "    console.duplex(\"Eureka! Three is less than five!\", element);\n",
       "}"
      ],
      "text/plain": [
       "<IPython.core.display.Javascript object>"
      ]
     },
     "metadata": {},
     "output_type": "display_data"
    }
   ],
   "source": [
    "%%javascript\n",
    "\n",
    "if (3 < 5) {\n",
    "    console.duplex(\"Eureka! Three is less than five!\", element);\n",
    "}"
   ]
  },
  {
   "cell_type": "code",
   "execution_count": 75,
   "metadata": {
    "collapsed": false
   },
   "outputs": [
    {
     "data": {
      "application/javascript": [
       "\n",
       "for (var i = 0; i < 5; i++) {\n",
       "    console.duplex(i, element);  //Prints value to console\n",
       "}"
      ],
      "text/plain": [
       "<IPython.core.display.Javascript object>"
      ]
     },
     "metadata": {},
     "output_type": "display_data"
    }
   ],
   "source": [
    "%%javascript\n",
    "\n",
    "for (var i = 0; i < 5; i++) {\n",
    "    console.duplex(i, element);  //Prints value to console\n",
    "}"
   ]
  },
  {
   "cell_type": "code",
   "execution_count": 76,
   "metadata": {
    "collapsed": false
   },
   "outputs": [
    {
     "data": {
      "application/javascript": [
       "\n",
       "var numbers = [ 8, 100, 22, 98, 99, 45 ];\n",
       "\n",
       "for (var i = 0; i < numbers.length; i++) {\n",
       "    console.duplex(numbers[i], element);  //Print value to console\n",
       "}"
      ],
      "text/plain": [
       "<IPython.core.display.Javascript object>"
      ]
     },
     "metadata": {},
     "output_type": "display_data"
    }
   ],
   "source": [
    "%%javascript\n",
    "\n",
    "var numbers = [ 8, 100, 22, 98, 99, 45 ];\n",
    "\n",
    "for (var i = 0; i < numbers.length; i++) {\n",
    "    console.duplex(numbers[i], element);  //Print value to console\n",
    "}"
   ]
  },
  {
   "cell_type": "code",
   "execution_count": 78,
   "metadata": {
    "collapsed": false
   },
   "outputs": [
    {
     "data": {
      "application/javascript": [
       "\n",
       "console.duplex(\"Look at me. I can do stuff!\", element);"
      ],
      "text/plain": [
       "<IPython.core.display.Javascript object>"
      ]
     },
     "metadata": {},
     "output_type": "display_data"
    }
   ],
   "source": [
    "%%javascript\n",
    "\n",
    "console.duplex(\"Look at me. I can do stuff!\", element);"
   ]
  },
  {
   "cell_type": "code",
   "execution_count": 81,
   "metadata": {
    "collapsed": false
   },
   "outputs": [
    {
     "data": {
      "application/javascript": [
       "\n",
       "var calculateGratuity = function(bill) {\n",
       "    return bill * 0.2;\n",
       "};\n",
       "\n",
       "console.duplex(calculateGratuity(38), element);\n",
       "\n",
       "var tip = calculateGratuity(38);\n",
       "console.duplex(tip, element); "
      ],
      "text/plain": [
       "<IPython.core.display.Javascript object>"
      ]
     },
     "metadata": {},
     "output_type": "display_data"
    }
   ],
   "source": [
    "%%javascript\n",
    "\n",
    "var calculateGratuity = function(bill) {\n",
    "    return bill * 0.2;\n",
    "};\n",
    "\n",
    "console.duplex(calculateGratuity(38), element);\n",
    "\n",
    "var tip = calculateGratuity(38);\n",
    "console.duplex(tip, element); "
   ]
  },
  {
   "cell_type": "code",
   "execution_count": 84,
   "metadata": {
    "collapsed": false
   },
   "outputs": [
    {
     "data": {
      "application/javascript": [
       "\n",
       "/* JavaScript supports CSS-style comments like this. */\n",
       "\n",
       "// But double-slashes can be used as well.\n",
       "// Anything following // on the same line will be ignored.\n",
       "// This is helpful for including brief notes to yourself\n",
       "// as to what each line of code does, as in:\n",
       "\n",
       "console.duplex(\"Brilliant\", element);  // Prints \"Brilliant\" to the console"
      ],
      "text/plain": [
       "<IPython.core.display.Javascript object>"
      ]
     },
     "metadata": {},
     "output_type": "display_data"
    }
   ],
   "source": [
    "%%javascript\n",
    "\n",
    "/* JavaScript supports CSS-style comments like this. */\n",
    "\n",
    "// But double-slashes can be used as well.\n",
    "// Anything following // on the same line will be ignored.\n",
    "// This is helpful for including brief notes to yourself\n",
    "// as to what each line of code does, as in:\n",
    "\n",
    "console.duplex(\"Brilliant\", element);  // Prints \"Brilliant\" to the console"
   ]
  },
  {
   "cell_type": "code",
   "execution_count": 89,
   "metadata": {
    "collapsed": false
   },
   "outputs": [
    {
     "data": {
      "text/html": [
       "\n",
       "<body>\n",
       "    <script type=\"text/javascript\">\n",
       "        $('#button1').click(function(){\n",
       "            alert(\"Hello, world!\");\n",
       "        });\n",
       "    </script>\n",
       "    \n",
       "    <button id='button1'>Hello</button>\n",
       "</body>"
      ],
      "text/plain": [
       "<IPython.core.display.HTML object>"
      ]
     },
     "metadata": {},
     "output_type": "display_data"
    }
   ],
   "source": [
    "%%html\n",
    "\n",
    "<body>\n",
    "    <script type=\"text/javascript\">\n",
    "        $('#button1').click(function(){\n",
    "            alert(\"Hello, world!\");\n",
    "        });\n",
    "    </script>\n",
    "    \n",
    "    <button id='button1'>Hello</button>\n",
    "</body>"
   ]
  },
  {
   "cell_type": "code",
   "execution_count": 93,
   "metadata": {
    "collapsed": false
   },
   "outputs": [
    {
     "data": {
      "text/html": [
       "\n",
       "<head>\n",
       "    <title>Page Title</title>\n",
       "    <script type=\"text/javascript\" src=\"myscript.js\"></script>\n",
       "</head>"
      ],
      "text/plain": [
       "<IPython.core.display.HTML object>"
      ]
     },
     "metadata": {},
     "output_type": "display_data"
    }
   ],
   "source": [
    "%%html\n",
    "\n",
    "<head>\n",
    "    <title>Page Title</title>\n",
    "    <script type=\"text/javascript\" src=\"myscript.js\"></script>\n",
    "</head>"
   ]
  },
  {
   "cell_type": "code",
   "execution_count": 94,
   "metadata": {
    "collapsed": false
   },
   "outputs": [
    {
     "data": {
      "image/svg+xml": [
       "<svg height=\"50\" width=\"50\">\n",
       "    <circle cx=\"25\" cy=\"25\" fill=\"blue\" r=\"22\" stroke=\"gray\" stroke-width=\"2\"/>\n",
       "</svg>"
      ],
      "text/plain": [
       "<IPython.core.display.SVG object>"
      ]
     },
     "metadata": {},
     "output_type": "display_data"
    }
   ],
   "source": [
    "%%svg\n",
    "\n",
    "<svg width=\"50\" height=\"50\">\n",
    "    <circle cx=\"25\" cy=\"25\" r=\"22\" fill=\"blue\" stroke=\"gray\" stroke-width=\"2\"/>\n",
    "</svg>"
   ]
  },
  {
   "cell_type": "code",
   "execution_count": 96,
   "metadata": {
    "collapsed": false
   },
   "outputs": [
    {
     "data": {
      "image/svg+xml": [
       "<svg height=\"50\" width=\"500\">\n",
       "    <rect height=\"50\" width=\"500\" x=\"0\" y=\"0\"/>\n",
       "</svg>"
      ],
      "text/plain": [
       "<IPython.core.display.SVG object>"
      ]
     },
     "metadata": {},
     "output_type": "display_data"
    }
   ],
   "source": [
    "%%svg\n",
    "\n",
    "<svg width=\"500\" height=\"50\">\n",
    "    <rect x=\"0\" y=\"0\" width=\"500\" height=\"50\"/>\n",
    "</svg>"
   ]
  },
  {
   "cell_type": "code",
   "execution_count": 99,
   "metadata": {
    "collapsed": false
   },
   "outputs": [
    {
     "data": {
      "image/svg+xml": [
       "<svg height=\"50\" width=\"500\">\n",
       "    <circle cx=\"250\" cy=\"25\" r=\"25\"/>\n",
       "</svg>"
      ],
      "text/plain": [
       "<IPython.core.display.SVG object>"
      ]
     },
     "metadata": {},
     "output_type": "display_data"
    }
   ],
   "source": [
    "%%svg\n",
    "\n",
    "<svg width=\"500\" height=\"50\">\n",
    "    <circle cx=\"250\" cy=\"25\" r=\"25\"/>\n",
    "</svg>"
   ]
  },
  {
   "cell_type": "code",
   "execution_count": 102,
   "metadata": {
    "collapsed": false
   },
   "outputs": [
    {
     "data": {
      "image/svg+xml": [
       "<svg height=\"50\" width=\"500\">\n",
       "    <ellipse cx=\"250\" cy=\"25\" rx=\"100\" ry=\"25\"/>\n",
       "</svg>"
      ],
      "text/plain": [
       "<IPython.core.display.SVG object>"
      ]
     },
     "metadata": {},
     "output_type": "display_data"
    }
   ],
   "source": [
    "%%svg\n",
    "\n",
    "<svg width=\"500\" height=\"50\">\n",
    "    <ellipse cx=\"250\" cy=\"25\" rx=\"100\" ry=\"25\"/>\n",
    "</svg>"
   ]
  },
  {
   "cell_type": "code",
   "execution_count": 101,
   "metadata": {
    "collapsed": false
   },
   "outputs": [
    {
     "data": {
      "image/svg+xml": [
       "<svg height=\"50\" width=\"500\">\n",
       "    <line stroke=\"black\" x1=\"0\" x2=\"500\" y1=\"0\" y2=\"50\"/>\n",
       "</svg>"
      ],
      "text/plain": [
       "<IPython.core.display.SVG object>"
      ]
     },
     "metadata": {},
     "output_type": "display_data"
    }
   ],
   "source": [
    "%%svg\n",
    "\n",
    "<svg width=\"500\" height=\"50\">\n",
    "    <line x1=\"0\" y1=\"0\" x2=\"500\" y2=\"50\" stroke=\"black\"/>\n",
    "</svg>"
   ]
  },
  {
   "cell_type": "code",
   "execution_count": 105,
   "metadata": {
    "collapsed": false
   },
   "outputs": [
    {
     "data": {
      "image/svg+xml": [
       "<svg height=\"50\" width=\"500\">\n",
       "    <text x=\"250\" y=\"25\">Easy-peasy</text>\n",
       "</svg>"
      ],
      "text/plain": [
       "<IPython.core.display.SVG object>"
      ]
     },
     "metadata": {},
     "output_type": "display_data"
    }
   ],
   "source": [
    "%%svg\n",
    "\n",
    "<svg width=\"500\" height=\"50\">\n",
    "    <text x=\"250\" y=\"25\">Easy-peasy</text>\n",
    "</svg>"
   ]
  },
  {
   "cell_type": "code",
   "execution_count": 107,
   "metadata": {
    "collapsed": false
   },
   "outputs": [
    {
     "data": {
      "image/svg+xml": [
       "<svg height=\"50\" width=\"500\">\n",
       "    <text fill=\"gray\" font-family=\"serif\" font-size=\"25\" x=\"250\" y=\"25\">Easy-peasy</text>\n",
       "</svg>"
      ],
      "text/plain": [
       "<IPython.core.display.SVG object>"
      ]
     },
     "metadata": {},
     "output_type": "display_data"
    }
   ],
   "source": [
    "%%svg\n",
    "\n",
    "<svg width=\"500\" height=\"50\">\n",
    "    <text x=\"250\" y=\"25\" font-family=\"serif\" font-size=\"25\" fill=\"gray\">Easy-peasy</text>\n",
    "</svg>"
   ]
  },
  {
   "cell_type": "code",
   "execution_count": 108,
   "metadata": {
    "collapsed": false
   },
   "outputs": [
    {
     "data": {
      "image/svg+xml": [
       "<svg height=\"50\" width=\"500\">\n",
       "    <text fill=\"gray\" font-family=\"serif\" font-size=\"25\" x=\"250\" y=\"50\">Easy-peasy</text>\n",
       "</svg>"
      ],
      "text/plain": [
       "<IPython.core.display.SVG object>"
      ]
     },
     "metadata": {},
     "output_type": "display_data"
    }
   ],
   "source": [
    "%%svg\n",
    "\n",
    "<svg width=\"500\" height=\"50\">\n",
    "    <text x=\"250\" y=\"50\" font-family=\"serif\" font-size=\"25\" fill=\"gray\">Easy-peasy</text>\n",
    "</svg>"
   ]
  },
  {
   "cell_type": "code",
   "execution_count": 110,
   "metadata": {
    "collapsed": false
   },
   "outputs": [
    {
     "data": {
      "image/svg+xml": [
       "<svg height=\"50\" width=\"500\">\n",
       "    <circle cx=\"25\" cy=\"25\" fill=\"yellow\" r=\"22\" stroke=\"orange\" stroke-width=\"5\"/>\n",
       "</svg>"
      ],
      "text/plain": [
       "<IPython.core.display.SVG object>"
      ]
     },
     "metadata": {},
     "output_type": "display_data"
    }
   ],
   "source": [
    "%%svg\n",
    "\n",
    "<svg width=\"500\" height=\"50\">\n",
    "    <circle cx=\"25\" cy=\"25\" r=\"22\" fill=\"yellow\" stroke=\"orange\" stroke-width=\"5\"/>\n",
    "</svg>"
   ]
  },
  {
   "cell_type": "code",
   "execution_count": 116,
   "metadata": {
    "collapsed": false
   },
   "outputs": [
    {
     "data": {
      "image/svg+xml": [
       "<svg height=\"50\" width=\"500\">\n",
       "    <circle cx=\"25\" cy=\"25\" r=\"22\"/>\n",
       "</svg>"
      ],
      "text/plain": [
       "<IPython.core.display.SVG object>"
      ]
     },
     "metadata": {},
     "output_type": "display_data"
    }
   ],
   "source": [
    "%%svg\n",
    "\n",
    "<svg width=\"500\" height=\"50\">\n",
    "    <circle cx=\"25\" cy=\"25\" r=\"22\"/>\n",
    "</svg>"
   ]
  },
  {
   "cell_type": "code",
   "execution_count": 117,
   "metadata": {
    "collapsed": false
   },
   "outputs": [
    {
     "data": {
      "text/html": [
       "\n",
       "<html>\n",
       "    <head>\n",
       "        <title></title>\n",
       "        <style>\n",
       "            .pumpkin {\n",
       "                fill: yellow;\n",
       "                stroke: orange;\n",
       "                stroke-width: 5;\n",
       "             }\n",
       "        </style>    \n",
       "    </head>\n",
       "    <body>\n",
       "        <svg width=\"500\" height=\"50\">\n",
       "            <circle cx=\"25\" cy=\"25\" r=\"22\" class=\"pumpkin\"/>\n",
       "        </svg>\n",
       "    </body>\n",
       "</html>"
      ],
      "text/plain": [
       "<IPython.core.display.HTML object>"
      ]
     },
     "metadata": {},
     "output_type": "display_data"
    }
   ],
   "source": [
    "%%html\n",
    "\n",
    "<html>\n",
    "    <head>\n",
    "        <title></title>\n",
    "        <style>\n",
    "            .pumpkin {\n",
    "                fill: yellow;\n",
    "                stroke: orange;\n",
    "                stroke-width: 5;\n",
    "             }\n",
    "        </style>    \n",
    "    </head>\n",
    "    <body>\n",
    "        <svg width=\"500\" height=\"50\">\n",
    "            <circle cx=\"25\" cy=\"25\" r=\"22\" class=\"pumpkin\"/>\n",
    "        </svg>\n",
    "    </body>\n",
    "</html>"
   ]
  },
  {
   "cell_type": "code",
   "execution_count": 119,
   "metadata": {
    "collapsed": false
   },
   "outputs": [
    {
     "data": {
      "image/svg+xml": [
       "<svg height=\"50\" width=\"500\">\n",
       "<rect fill=\"purple\" height=\"30\" width=\"30\" x=\"0\" y=\"0\"/>\n",
       "<rect fill=\"blue\" height=\"30\" width=\"30\" x=\"20\" y=\"5\"/>\n",
       "<rect fill=\"green\" height=\"30\" width=\"30\" x=\"40\" y=\"10\"/>\n",
       "<rect fill=\"yellow\" height=\"30\" width=\"30\" x=\"60\" y=\"15\"/>\n",
       "<rect fill=\"red\" height=\"30\" width=\"30\" x=\"80\" y=\"20\"/>\n",
       "</svg>"
      ],
      "text/plain": [
       "<IPython.core.display.SVG object>"
      ]
     },
     "metadata": {},
     "output_type": "display_data"
    }
   ],
   "source": [
    "%%svg\n",
    "\n",
    "<svg width=\"500\" height=\"50\">\n",
    "    <rect x=\"0\" y=\"0\" width=\"30\" height=\"30\" fill=\"purple\"/>\n",
    "    <rect x=\"20\" y=\"5\" width=\"30\" height=\"30\" fill=\"blue\"/>\n",
    "    <rect x=\"40\" y=\"10\" width=\"30\" height=\"30\" fill=\"green\"/>\n",
    "    <rect x=\"60\" y=\"15\" width=\"30\" height=\"30\" fill=\"yellow\"/>\n",
    "    <rect x=\"80\" y=\"20\" width=\"30\" height=\"30\" fill=\"red\"/>\n",
    "</svg>"
   ]
  },
  {
   "cell_type": "code",
   "execution_count": 120,
   "metadata": {
    "collapsed": false
   },
   "outputs": [
    {
     "data": {
      "image/svg+xml": [
       "<svg height=\"50\" width=\"500\">\n",
       "    <circle cx=\"25\" cy=\"25\" fill=\"rgba(128, 0, 128, 1.0)\" r=\"20\"/>\n",
       "    <circle cx=\"50\" cy=\"25\" fill=\"rgba(0, 0, 255, 0.75)\" r=\"20\"/>\n",
       "    <circle cx=\"75\" cy=\"25\" fill=\"rgba(0, 255, 0, 0.5)\" r=\"20\"/>\n",
       "    <circle cx=\"100\" cy=\"25\" fill=\"rgba(255, 255, 0, 0.25)\" r=\"20\"/>\n",
       "    <circle cx=\"125\" cy=\"25\" fill=\"rgba(255, 0, 0, 0.1)\" r=\"20\"/>\n",
       "</svg>"
      ],
      "text/plain": [
       "<IPython.core.display.SVG object>"
      ]
     },
     "metadata": {},
     "output_type": "display_data"
    }
   ],
   "source": [
    "%%svg\n",
    "\n",
    "<svg width=\"500\" height=\"50\">\n",
    "    <circle cx=\"25\" cy=\"25\" r=\"20\" fill=\"rgba(128, 0, 128, 1.0)\"/>\n",
    "    <circle cx=\"50\" cy=\"25\" r=\"20\" fill=\"rgba(0, 0, 255, 0.75)\"/>\n",
    "    <circle cx=\"75\" cy=\"25\" r=\"20\" fill=\"rgba(0, 255, 0, 0.5)\"/>\n",
    "    <circle cx=\"100\" cy=\"25\" r=\"20\" fill=\"rgba(255, 255, 0, 0.25)\"/>\n",
    "    <circle cx=\"125\" cy=\"25\" r=\"20\" fill=\"rgba(255, 0, 0, 0.1)\"/>\n",
    "</svg>"
   ]
  },
  {
   "cell_type": "code",
   "execution_count": 121,
   "metadata": {
    "collapsed": false
   },
   "outputs": [
    {
     "data": {
      "image/svg+xml": [
       "<svg height=\"50\" width=\"500\">\n",
       "    <circle cx=\"25\" cy=\"25\" fill=\"rgba(128, 0, 128, 0.75)\" r=\"20\" stroke=\"rgba(0, 255, 0, 0.25)\" stroke-width=\"10\"/>\n",
       "    <circle cx=\"75\" cy=\"25\" fill=\"rgba(0, 255, 0, 0.75)\" r=\"20\" stroke=\"rgba(0, 0, 255, 0.25)\" stroke-width=\"10\"/>\n",
       "    <circle cx=\"125\" cy=\"25\" fill=\"rgba(255, 255, 0, 0.75)\" r=\"20\" stroke=\"rgba(255, 0, 0, 0.25)\" stroke-width=\"10\"/>\n",
       "</svg>"
      ],
      "text/plain": [
       "<IPython.core.display.SVG object>"
      ]
     },
     "metadata": {},
     "output_type": "display_data"
    }
   ],
   "source": [
    "%%svg\n",
    "\n",
    "<svg width=\"500\" height=\"50\">\n",
    "    <circle cx=\"25\" cy=\"25\" r=\"20\" fill=\"rgba(128, 0, 128, 0.75)\"\n",
    "            stroke=\"rgba(0, 255, 0, 0.25)\" stroke-width=\"10\"/>\n",
    "    <circle cx=\"75\" cy=\"25\" r=\"20\" fill=\"rgba(0, 255, 0, 0.75)\"\n",
    "            stroke=\"rgba(0, 0, 255, 0.25)\" stroke-width=\"10\"/>\n",
    "    <circle cx=\"125\" cy=\"25\" r=\"20\" fill=\"rgba(255, 255, 0, 0.75)\"\n",
    "            stroke=\"rgba(255, 0, 0, 0.25)\" stroke-width=\"10\"/>\n",
    "</svg>"
   ]
  },
  {
   "cell_type": "code",
   "execution_count": 122,
   "metadata": {
    "collapsed": false
   },
   "outputs": [
    {
     "data": {
      "image/svg+xml": [
       "<svg height=\"50\" width=\"500\">\n",
       "    <circle cx=\"25\" cy=\"25\" fill=\"purple\" opacity=\"0.9\" r=\"20\" stroke=\"green\" stroke-width=\"10\"/>\n",
       "    <circle cx=\"65\" cy=\"25\" fill=\"green\" opacity=\"0.5\" r=\"20\" stroke=\"blue\" stroke-width=\"10\"/>\n",
       "    <circle cx=\"105\" cy=\"25\" fill=\"yellow\" opacity=\"0.1\" r=\"20\" stroke=\"red\" stroke-width=\"10\"/>\n",
       "</svg>"
      ],
      "text/plain": [
       "<IPython.core.display.SVG object>"
      ]
     },
     "metadata": {},
     "output_type": "display_data"
    }
   ],
   "source": [
    "%%svg\n",
    "\n",
    "<svg width=\"500\" height=\"50\">\n",
    "    <circle cx=\"25\" cy=\"25\" r=\"20\" fill=\"purple\" stroke=\"green\" stroke-width=\"10\"\n",
    "            opacity=\"0.9\"/>\n",
    "    <circle cx=\"65\" cy=\"25\" r=\"20\" fill=\"green\" stroke=\"blue\" stroke-width=\"10\"\n",
    "            opacity=\"0.5\"/>\n",
    "    <circle cx=\"105\" cy=\"25\" r=\"20\" fill=\"yellow\" stroke=\"red\" stroke-width=\"10\"\n",
    "            opacity=\"0.1\"/>\n",
    "</svg>"
   ]
  },
  {
   "cell_type": "code",
   "execution_count": 123,
   "metadata": {
    "collapsed": false,
    "scrolled": true
   },
   "outputs": [
    {
     "data": {
      "image/svg+xml": [
       "<svg height=\"50\" width=\"500\">\n",
       "    <circle cx=\"25\" cy=\"25\" fill=\"rgba(128, 0, 128, 0.75)\" r=\"20\" stroke=\"rgba(0, 255, 0, 0.25)\" stroke-width=\"10\"/>\n",
       "    <circle cx=\"65\" cy=\"25\" fill=\"rgba(128, 0, 128, 0.75)\" opacity=\"0.5\" r=\"20\" stroke=\"rgba(0, 255, 0, 0.25)\" stroke-width=\"10\"/>\n",
       "    <circle cx=\"105\" cy=\"25\" fill=\"rgba(128, 0, 128, 0.75)\" opacity=\"0.2\" r=\"20\" stroke=\"rgba(0, 255, 0, 0.25)\" stroke-width=\"10\"/>\n",
       "</svg>"
      ],
      "text/plain": [
       "<IPython.core.display.SVG object>"
      ]
     },
     "metadata": {},
     "output_type": "display_data"
    }
   ],
   "source": [
    "%%svg\n",
    "\n",
    "<svg width=\"500\" height=\"50\">\n",
    "    <circle cx=\"25\" cy=\"25\" r=\"20\" fill=\"rgba(128, 0, 128, 0.75)\"\n",
    "            stroke=\"rgba(0, 255, 0, 0.25)\" stroke-width=\"10\"/>\n",
    "    <circle cx=\"65\" cy=\"25\" r=\"20\" fill=\"rgba(128, 0, 128, 0.75)\"\n",
    "            stroke=\"rgba(0, 255, 0, 0.25)\" stroke-width=\"10\" opacity=\"0.5\"/>\n",
    "    <circle cx=\"105\" cy=\"25\" r=\"20\" fill=\"rgba(128, 0, 128, 0.75)\"\n",
    "            stroke=\"rgba(0, 255, 0, 0.25)\" stroke-width=\"10\" opacity=\"0.2\"/>\n",
    "</svg>"
   ]
  },
  {
   "cell_type": "code",
   "execution_count": 127,
   "metadata": {
    "collapsed": false
   },
   "outputs": [
    {
     "data": {
      "text/html": [
       "\n",
       "<script src=\"js/modernizr.js\"></script>\n",
       "\n",
       "<script type=\"text/javascript\">\n",
       "        Modernizr.load({\n",
       "                test: Modernizr.svg && Modernizr.inlinesvg,\n",
       "                yep : [ 'js/d3.v3.min.js',\n",
       "                        'js/script.js' ]\n",
       "        });\n",
       "</script>"
      ],
      "text/plain": [
       "<IPython.core.display.HTML object>"
      ]
     },
     "metadata": {},
     "output_type": "display_data"
    }
   ],
   "source": [
    "%%html\n",
    "\n",
    "<script src=\"js/modernizr.js\"></script>\n",
    "\n",
    "<script type=\"text/javascript\">\n",
    "        Modernizr.load({\n",
    "                test: Modernizr.svg && Modernizr.inlinesvg,\n",
    "                yep : [ 'js/d3.v3.min.js',\n",
    "                        'js/script.js' ]\n",
    "        });\n",
    "</script>"
   ]
  },
  {
   "cell_type": "code",
   "execution_count": null,
   "metadata": {
    "collapsed": true
   },
   "outputs": [],
   "source": []
  }
 ],
 "metadata": {
  "kernelspec": {
   "display_name": "Python 3",
   "language": "python",
   "name": "python3"
  },
  "language_info": {
   "codemirror_mode": {
    "name": "ipython",
    "version": 3
   },
   "file_extension": ".py",
   "mimetype": "text/x-python",
   "name": "python",
   "nbconvert_exporter": "python",
   "pygments_lexer": "ipython3",
   "version": "3.4.0"
  }
 },
 "nbformat": 4,
 "nbformat_minor": 0
}
